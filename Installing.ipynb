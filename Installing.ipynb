{
 "metadata": {
  "name": ""
 },
 "nbformat": 3,
 "nbformat_minor": 0,
 "worksheets": [
  {
   "cells": [
    {
     "cell_type": "heading",
     "level": 1,
     "metadata": {},
     "source": [
      "Installation of smartmontools and postfix"
     ]
    },
    {
     "cell_type": "markdown",
     "metadata": {},
     "source": [
      "####Goal: Monitor the health of attached hard drives and send an email alert about a failure or pending failure."
     ]
    },
    {
     "cell_type": "markdown",
     "metadata": {},
     "source": [
      "The information on the web is scattered and sometimes missing.  This program\n",
      "is based on information found at or on the following:\n",
      "\n",
      "* http://blog.shadypixel.com/monitoring-hard-drive-health-on-linux-with-smartmontools/\n",
      "* http://mhawthorne.net/posts/postfix-configuring-gmail-as-relay.html\n",
      "* man smartd.conf\n",
      "* http://www.howtoforge.com/checking-hard-disk-sanity-with-smartmontools-debian-ubuntu\n",
      "\n",
      "This notebook is designed to be run as a python program, not as a notebook.\n",
      "\n",
      "After it is complete you may manually check the self test logs with the following command:\n",
      "    \n",
      "    sudo smartctl -l selftest /dev/sda\n",
      "\n",
      "Where /dev/sda can be any disk drive listed with the following command:\n",
      "\n",
      "    sudo fdisk -l | grep \"Disk /dev\"\n"
     ]
    },
    {
     "cell_type": "heading",
     "level": 2,
     "metadata": {},
     "source": [
      "Get gmail address and password"
     ]
    },
    {
     "cell_type": "code",
     "collapsed": true,
     "input": [
      "import getpass\n",
      "mod = [] # list of modifications that were made\n",
      "gmail_address = raw_input(\"Enter your gmail address (user@gmail.com): \")\n",
      "print(\"Your password input will not be echoed\")\n",
      "gmail_password = getpass.getpass(\"Enter your gmail password: \")\n",
      "gmail_ID, domain = gmail_address.split('@')\n",
      "assert domain.lower()=='gmail.com', \"You must use a gmail address\""
     ],
     "language": "python",
     "metadata": {},
     "outputs": []
    },
    {
     "cell_type": "heading",
     "level": 2,
     "metadata": {},
     "source": [
      "Installing packages"
     ]
    },
    {
     "cell_type": "code",
     "collapsed": false,
     "input": [
      "import os"
     ],
     "language": "python",
     "metadata": {},
     "outputs": []
    },
    {
     "cell_type": "code",
     "collapsed": false,
     "input": [
      "text = \"\"\"Installing the following:\n",
      "    smartmontools \n",
      "    smart-notifier \n",
      "    postfix\n",
      "    \"\"\"\n",
      "mod+=text.split('\\n')\n",
      "print(text)\n",
      "os.system('sudo apt-get install smartmontools smart-notifier postfix --assume-yes')"
     ],
     "language": "python",
     "metadata": {},
     "outputs": []
    },
    {
     "cell_type": "heading",
     "level": 4,
     "metadata": {},
     "source": [
      "Get user's id"
     ]
    },
    {
     "cell_type": "code",
     "collapsed": false,
     "input": [
      "from subprocess import check_output\n",
      "id_user = 'echo $USER'\n",
      "user_byte = check_output(id_user,shell=True)\n",
      "user = user_byte.decode('ascii')\n",
      "#print(user)"
     ],
     "language": "python",
     "metadata": {},
     "outputs": []
    },
    {
     "cell_type": "heading",
     "level": 2,
     "metadata": {},
     "source": [
      "Modifying configuration files"
     ]
    },
    {
     "cell_type": "heading",
     "level": 3,
     "metadata": {},
     "source": [
      "smartmontools"
     ]
    },
    {
     "cell_type": "markdown",
     "metadata": {},
     "source": [
      "remove the # in the lines that read\n",
      "    #start_smartd=yes\n",
      "    #smartd_opts=\"--interval=1800\"\n",
      "from the /etc/default/smartmontools file"
     ]
    },
    {
     "cell_type": "code",
     "collapsed": false,
     "input": [
      "content = []\n",
      "original = []\n",
      "with open('/etc/default/smartmontools', 'r') as f:\n",
      "    for line in f:\n",
      "        original.append(line)\n",
      "        if 'start_smartd=yes' in line or 'smartd_opts=\"--interval=1800\"' in line:\n",
      "            text = line.strip('#')\n",
      "        else:\n",
      "            text = line\n",
      "        content.append(text)\n",
      "Files = os.listdir('.')\n",
      "if \"smartmontools_orig\" not in Files:\n",
      "    with open('smartmontools_orig', 'w') as f:\n",
      "        text = \"Writing the original contents of /etc/default/smartmontools to smartmontools_orig\"\n",
      "        mod+=[text]\n",
      "        print(text)\n",
      "        for line in original:\n",
      "            f.write(line)\n",
      "with open('smartmontools', 'w') as f:\n",
      "    for line in content:\n",
      "        f.write(line)"
     ],
     "language": "python",
     "metadata": {},
     "outputs": []
    },
    {
     "cell_type": "heading",
     "level": 3,
     "metadata": {},
     "source": [
      "Copy smartmontools back to /etc/default/smartmontools"
     ]
    },
    {
     "cell_type": "code",
     "collapsed": false,
     "input": [
      "os.system('sudo cp smartmontools /etc/default/smartmontools')"
     ],
     "language": "python",
     "metadata": {},
     "outputs": []
    },
    {
     "cell_type": "heading",
     "level": 2,
     "metadata": {},
     "source": [
      "Edit /etc/postfix/main.cf"
     ]
    },
    {
     "cell_type": "heading",
     "level": 4,
     "metadata": {},
     "source": [
      "Get the current file"
     ]
    },
    {
     "cell_type": "code",
     "collapsed": false,
     "input": [
      "content = []\n",
      "original = []\n",
      "with open('/etc/postfix/main.cf', 'r') as f:\n",
      "    for line in f:\n",
      "        original.append(line)\n",
      "        if 'relayhost =' in line and 'smtp' not in line:\n",
      "            text = '#'+line\n",
      "        else:\n",
      "            text = line\n",
      "        content.append(text)\n",
      "if \"main.cf_orig\" not in Files:\n",
      "    with open('main.cf_orig', 'w') as f:\n",
      "        text = \"Writing the original contents of /etc/postfix/main.cf to main.cf_orig\"\n",
      "        mod+=[text]\n",
      "        print(text)\n",
      "        for line in original:\n",
      "            f.write(line)"
     ],
     "language": "python",
     "metadata": {},
     "outputs": []
    },
    {
     "cell_type": "code",
     "collapsed": false,
     "input": [
      "additional = \"\"\"# sets gmail as relay\n",
      "relayhost = [smtp.gmail.com]:587 \n",
      "\n",
      "#  use tls\n",
      "smtp_use_tls=yes\n",
      "\n",
      "# use sasl when authenticating to foreign SMTP servers\n",
      "smtp_sasl_auth_enable = yes \n",
      "\n",
      "# path to password map file\n",
      "smtp_sasl_password_maps = hash:/etc/postfix/sasl_passwd\n",
      "\n",
      "# list of CAs to trust when verifying server certificate\n",
      "smtp_tls_CAfile = /etc/ssl/certs/ca-certificates.crt\n",
      "\n",
      "# eliminates default security options which are imcompatible with gmail\n",
      "smtp_sasl_security_options =\"\"\"\n",
      "add = additional.split('\\n')\n",
      "content+='\\n'\n",
      "for line in add:\n",
      "    skip = False\n",
      "    text = line.strip()\n",
      "    #print text\n",
      "    for entry in content:\n",
      "        comp = entry.strip()\n",
      "        if text in comp:\n",
      "            skip = True\n",
      "            #print(\"skiping\")\n",
      "            break\n",
      "    #print(skip)\n",
      "    if not skip:\n",
      "        content+=[line+'\\n']"
     ],
     "language": "python",
     "metadata": {},
     "outputs": []
    },
    {
     "cell_type": "code",
     "collapsed": false,
     "input": [
      "with open('main.cf', 'w') as f:\n",
      "    for line in content:\n",
      "        f.write(line)"
     ],
     "language": "python",
     "metadata": {},
     "outputs": []
    },
    {
     "cell_type": "heading",
     "level": 4,
     "metadata": {},
     "source": [
      "Copy main.cf to /etc/postfix/main.cf"
     ]
    },
    {
     "cell_type": "code",
     "collapsed": false,
     "input": [
      "os.system('sudo cp main.cf /etc/postfix/main.cf')"
     ],
     "language": "python",
     "metadata": {},
     "outputs": []
    },
    {
     "cell_type": "heading",
     "level": 2,
     "metadata": {},
     "source": [
      "Edit /etc/smartd.conf"
     ]
    },
    {
     "cell_type": "code",
     "collapsed": false,
     "input": [
      "print(\"Based on information found at: \")\n",
      "print(\"http://blog.shadypixel.com/monitoring-hard-drive-health-on-linux-with-smartmontools/\")\n",
      "print(\"and using information found in: man smartd.conf \\n\")\n",
      "\n",
      "additional = \"\"\"DEVICESCAN -a \\ #Monitor all health activities on all connected drives.\n",
      "           -I 194 \\ #Ignore the temperature fluctuations on the SATA drives\n",
      "           -W 4,45,55 \\ #Warn when the drive temperatures fluctuate more than 4 degC, or are outside 45 to 55 degC\n",
      "           -R 5 \\ #Monitor when sectors are realocated\n",
      "           -l selftest \\ #Report any problems with the selftests\n",
      "           -s (S/../.././18|L/../../6/19) \\ #Run a short test at 6pm every night and a long test at 7pm on Saturdays\n",
      "           -m USERID@gmail.com \\ #Email any detected problems to this email address\n",
      "           \"\"\" #add '-M test'  #To test the email function upon startup \n",
      "additional = additional.replace('USERID',gmail_ID)\n",
      "print(\"Adding the following to the /etc/smartd.conf file:\\n\")\n",
      "print(additional)\n",
      "print(\"\\nThat information was found in man smartd.conf\\n\")\n",
      "content = []\n",
      "original = []\n",
      "with open('/etc/smartd.conf', 'r') as f:\n",
      "    for line in f:\n",
      "        original.append(line)\n",
      "        if len(line)>0:\n",
      "            text = '#'+line\n",
      "        else:\n",
      "            text = line\n",
      "        content.append(text)\n",
      "for line in additional.split('\\n'):\n",
      "    content.append(line+'\\n')\n",
      "if \"smartd.conf_orig\" not in Files:\n",
      "    with open('smartd.conf_orig', 'w') as f:\n",
      "        text = \"Writing the original contents of /etc/smartd.conf to smartd.conf_orig\"\n",
      "        mod+=[text]\n",
      "        print(text)\n",
      "        for line in original:\n",
      "            f.write(line)\n",
      "with open('smartd.conf', 'w') as f:\n",
      "    for line in content:\n",
      "        f.write(line)\n",
      "os.system('sudo cp smartd.conf /etc/smartd.conf')"
     ],
     "language": "python",
     "metadata": {},
     "outputs": []
    },
    {
     "cell_type": "heading",
     "level": 2,
     "metadata": {},
     "source": [
      "Edit /etc/postfix/sasl_passwd "
     ]
    },
    {
     "cell_type": "code",
     "collapsed": false,
     "input": [
      "pwd = os.getcwd()\n",
      "if os.path.exists('/etc/postfix/sasl_passwd'):\n",
      "    cmd = 'cp /etc/postfix/sasl_passwd \"'+pwd+'\"/sasl_passwd_orig'\n",
      "    #print cmd\n",
      "    os.system(cmd)\n",
      "    text = \"Writing the original contents of /etc/postfix/sasl_passwd to sasl_passwd_orig\"\n",
      "    mod+=[text]\n",
      "    print(text)\n",
      "else:\n",
      "    with open(\"sasl_passwd_orig\",'w') as f:\n",
      "        f.write('')\n",
      "found = False\n",
      "content = []\n",
      "add = \"[smtp.gmail.com]:587  username:password\\n\".replace(\"username:password\",gmail_ID+\":\"+gmail_password)\n",
      "with open(\"sasl_passwd_orig\",'r') as f:\n",
      "    for line in f:\n",
      "        if add in line:\n",
      "            found = True\n",
      "        content.append(line)\n",
      "\n",
      "if not found:\n",
      "    content.append(add)\n",
      "with open(\"sasl_passwd\",'w') as f:\n",
      "    for line in content:\n",
      "        f.write(line)"
     ],
     "language": "python",
     "metadata": {},
     "outputs": []
    },
    {
     "cell_type": "code",
     "collapsed": false,
     "input": [
      "os.system('sudo cp sasl_passwd /etc/postfix/sasl_passwd')\n",
      "os.system('sudo postmap /etc/postfix/sasl_passwd')\n",
      "os.system('sudo chown postfix /etc/postfix/sasl_passwd*')\n",
      "os.system('sudo updatedb')\n",
      "os.system('sudo /etc/init.d/postfix reload')\n",
      "with open(\".forward\",'w') as f:\n",
      "    f.write(gmail_address)\n",
      "print(\"Writing the .forward file to your /home/%s directory and to the /root directory.\"%user)\n",
      "os.system('cp .forward ~/.forward')\n",
      "os.system('sudo cp .forward /root/.forward')"
     ],
     "language": "python",
     "metadata": {},
     "outputs": []
    },
    {
     "cell_type": "heading",
     "level": 2,
     "metadata": {},
     "source": [
      "Validate Email"
     ]
    },
    {
     "cell_type": "code",
     "collapsed": false,
     "input": [
      "print(\"Testing email:\")\n",
      "print(\"    You should recieve an email with a subject of 'Email Test' at the email you have specified.\")\n",
      "print(\"    press crtl-D to continue\")\n",
      "os.system('mail -s \"Email Test\" %s@gmail.com < /dev/null'%gmail_ID)\n",
      "print(\"    If you do not then there is a problem with your email setup.\")\n",
      "print(\"Please check: http://mhawthorne.net/posts/postfix-configuring-gmail-as-relay.html for trouble shooting.\")"
     ],
     "language": "python",
     "metadata": {},
     "outputs": []
    },
    {
     "cell_type": "code",
     "collapsed": false,
     "input": [
      "print('''Now that the installation is complete you may manually check the self test logs with the following command:\n",
      "    \n",
      "    sudo smartctl -l selftest /dev/sda\n",
      "\n",
      "Where /dev/sda can be any disk drive listed with the following command:\n",
      "\n",
      "    sudo fdisk -l | grep \"Disk /dev\"''')"
     ],
     "language": "python",
     "metadata": {},
     "outputs": []
    },
    {
     "cell_type": "code",
     "collapsed": false,
     "input": [
      "os.system(\"sudo /etc/init.d/smartmontools start\")\n",
      "with open(\"Modifications.txt\",'w') as f:\n",
      "    for line in mod:\n",
      "        f.write(line+'\\n')\n",
      "print(\"Saving the modifications to Modifications.txt\")"
     ],
     "language": "python",
     "metadata": {},
     "outputs": []
    }
   ],
   "metadata": {}
  }
 ]
}
